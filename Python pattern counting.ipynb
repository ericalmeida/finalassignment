{
 "cells": [
  {
   "cell_type": "code",
   "execution_count": 1,
   "metadata": {
    "collapsed": false
   },
   "outputs": [
    {
     "name": "stdout",
     "output_type": "stream",
     "text": [
      "  % Total    % Received % Xferd  Average Speed   Time    Time     Time  Current\r\n",
      "                                 Dload  Upload   Total   Spent    Left  Speed\r\n",
      "\r",
      "  0     0    0     0    0     0      0      0 --:--:--  0:00:01 --:--:--     0\r",
      "100 21190  100 21190    0     0  20023      0  0:00:01  0:00:01 --:--:--  449k\r\n"
     ]
    }
   ],
   "source": [
    "!curl -O http://rachelss.github.io/Bioinformatics/sample.fastq"
   ]
  },
  {
   "cell_type": "code",
   "execution_count": 4,
   "metadata": {
    "collapsed": false
   },
   "outputs": [
    {
     "name": "stdout",
     "output_type": "stream",
     "text": [
      "sample.fastq\r\n"
     ]
    }
   ],
   "source": [
    "!ls sample.fastq"
   ]
  },
  {
   "cell_type": "code",
   "execution_count": 5,
   "metadata": {
    "collapsed": false
   },
   "outputs": [],
   "source": [
    "filename = 'sample.fastq'\n",
    "f = open(filename, 'r')"
   ]
  },
  {
   "cell_type": "code",
   "execution_count": 6,
   "metadata": {
    "collapsed": true
   },
   "outputs": [],
   "source": [
    "fastq =f.readlines()"
   ]
  },
  {
   "cell_type": "code",
   "execution_count": 7,
   "metadata": {
    "collapsed": false
   },
   "outputs": [
    {
     "name": "stdout",
     "output_type": "stream",
     "text": [
      "0\n",
      "@read0\n",
      "\n",
      "1\n",
      "TTCACCGTGATACCGCTTGATCTACGACCGTGCATGAAGACCGCCAATGCTAAGCTCAACGAGGTCCGACCGACGAAGAACTCGTGGACTAAAAATAGCT\n",
      "\n",
      "2\n",
      "+\n",
      "\n",
      "3\n",
      "IM40#d5SUo\"UazxA!zdcs%nDm1I%3wlAxqy9qgcDZQ#pfeH05Jy$zhZoMgEgDnHW7\"sR0fuQF#Zvu!S3\"lmrm8\"I#pq9ZD4vv1x!\n",
      "\n"
     ]
    }
   ],
   "source": [
    "for line_num,line in enumerate(fastq[0:4]): #enumerate lets you look at the file with the line number\n",
    "    print(line_num)\n",
    "    print(line)"
   ]
  },
  {
   "cell_type": "code",
   "execution_count": 24,
   "metadata": {
    "collapsed": false
   },
   "outputs": [
    {
     "name": "stdout",
     "output_type": "stream",
     "text": [
      "[2517, 2444, 2489, 2550]\n"
     ]
    }
   ],
   "source": [
    "count_list = [0,0,0,0] #this is a list of A, C, G, T counts starting at zero count\n",
    "for line_num,line in enumerate(fastq[:]): #looks at the whole data set\n",
    "    if line_num % 4 == 1: #specify lines with sequences\n",
    "        for base in line:# go through each base so we can count it\n",
    "            if base == 'A': #if you see an A add 1\n",
    "                count_list[0] = count_list[0] +1\n",
    "            if base == 'T': #if you see a T add 1\n",
    "                count_list[1] = count_list[1] +1\n",
    "            if base == 'G': #if you see a G add 1\n",
    "                count_list[2] = count_list[2] +1\n",
    "            if base == 'C':#if you see a C add 1\n",
    "                count_list[3] = count_list[3] +1\n",
    "                \n",
    "print(count_list) #will show the count of each base along"
   ]
  },
  {
   "cell_type": "code",
   "execution_count": 25,
   "metadata": {
    "collapsed": true
   },
   "outputs": [],
   "source": [
    "def count_kmers(n):\n",
    "    kmer_dict = {} #empty dictionary\n",
    "    for line_num, line in enumerate(fastq):\n",
    "        if line_num % 4 == 1: #just looks at lines with sequences (every 4th line)\n",
    "            line = line.rstrip() #does not allow the computer to continue making kmers for the last base\n",
    "                                #an error would occur without this function\n",
    "            seq_len = len(line) - n #counts length of line and subtracts n to make it work\n",
    "            for i in range(seq_len):\n",
    "                if line[i:i+n] not in kmer_dict: #if its not in the dictionary, add it in\n",
    "                    kmer_dict[line[i:i+n]] = 0 #start dictionary variables at 0\n",
    "                kmer_dict[line[i:i+n]] += 1 # when you find a match add 1\n",
    "    return kmer_dict # return the count into the dictionary"
   ]
  },
  {
   "cell_type": "code",
   "execution_count": 26,
   "metadata": {
    "collapsed": false
   },
   "outputs": [
    {
     "data": {
      "text/plain": [
       "{'AA': 628,\n",
       " 'AC': 656,\n",
       " 'AG': 622,\n",
       " 'AT': 569,\n",
       " 'CA': 632,\n",
       " 'CC': 626,\n",
       " 'CG': 621,\n",
       " 'CT': 629,\n",
       " 'GA': 627,\n",
       " 'GC': 615,\n",
       " 'GG': 572,\n",
       " 'GT': 619,\n",
       " 'TA': 585,\n",
       " 'TC': 610,\n",
       " 'TG': 616,\n",
       " 'TT': 573}"
      ]
     },
     "execution_count": 26,
     "metadata": {},
     "output_type": "execute_result"
    }
   ],
   "source": [
    "count_kmers(2) #specify a kmer size and display kmers with count"
   ]
  },
  {
   "cell_type": "code",
   "execution_count": null,
   "metadata": {
    "collapsed": true
   },
   "outputs": [],
   "source": []
  }
 ],
 "metadata": {
  "kernelspec": {
   "display_name": "Python [default]",
   "language": "python",
   "name": "python3"
  },
  "language_info": {
   "codemirror_mode": {
    "name": "ipython",
    "version": 3
   },
   "file_extension": ".py",
   "mimetype": "text/x-python",
   "name": "python",
   "nbconvert_exporter": "python",
   "pygments_lexer": "ipython3",
   "version": "3.5.2"
  }
 },
 "nbformat": 4,
 "nbformat_minor": 1
}
